{
  "cells": [
    {
      "cell_type": "markdown",
      "metadata": {
        "id": "j12YgYtdP9JK"
      },
      "source": [
        "# 🕸️ Scrapify\n",
        "\n",
        "<!-- [![Open In Colab](https://colab.research.google.com/assets/colab-badge.svg)](https://colab.research.google.com/github/YonaniCodes/Scrapify/blob/main/notebooks/scrapify-demo.ipynb) -->\n"
      ]
    },
    {
      "cell_type": "code",
      "execution_count": null,
      "metadata": {
        "colab": {
          "base_uri": "https://localhost:8080/"
        },
        "id": "WFTPeEs3P9JN",
        "outputId": "a52978f0-3cd0-4c49-e8f1-b5c618965425",
        "vscode": {
          "languageId": "plaintext"
        }
      },
      "outputs": [
        {
          "output_type": "stream",
          "name": "stdout",
          "text": [
            "/content/Scrapify\n",
            "No local changes to save\n",
            "remote: Enumerating objects: 15, done.\u001b[K\n",
            "remote: Counting objects: 100% (15/15), done.\u001b[K\n",
            "remote: Compressing objects: 100% (9/9), done.\u001b[K\n",
            "remote: Total 12 (delta 5), reused 0 (delta 0), pack-reused 0 (from 0)\u001b[K\n",
            "Unpacking objects: 100% (12/12), 42.15 KiB | 526.00 KiB/s, done.\n",
            "From https://github.com/YonaniCodes/Scrapify\n",
            "   7b48c42..6ebd7ee  main       -> origin/main\n",
            "Updating 7b48c42..6ebd7ee\n",
            "Fast-forward\n",
            " notebooks/scrapify_demo.ipynb | 1290 \u001b[32m+++++++++++++++++++++++++++++++++++++++\u001b[m\u001b[31m--\u001b[m\n",
            " 1 file changed, 1256 insertions(+), 34 deletions(-)\n",
            "Collecting asgiref==3.8.1 (from -r requirements.txt (line 1))\n",
            "  Using cached asgiref-3.8.1-py3-none-any.whl.metadata (9.3 kB)\n",
            "Collecting asttokens==2.4.1 (from -r requirements.txt (line 2))\n",
            "  Using cached asttokens-2.4.1-py2.py3-none-any.whl.metadata (5.2 kB)\n",
            "Collecting blinker==1.8.2 (from -r requirements.txt (line 3))\n",
            "  Using cached blinker-1.8.2-py3-none-any.whl.metadata (1.6 kB)\n",
            "Requirement already satisfied: CacheControl==0.14.2 in /usr/local/lib/python3.11/dist-packages (from -r requirements.txt (line 4)) (0.14.2)\n",
            "Requirement already satisfied: cachetools==5.5.2 in /usr/local/lib/python3.11/dist-packages (from -r requirements.txt (line 5)) (5.5.2)\n",
            "Collecting certifi==2024.8.30 (from -r requirements.txt (line 6))\n",
            "  Using cached certifi-2024.8.30-py3-none-any.whl.metadata (2.2 kB)\n",
            "Requirement already satisfied: cffi==1.17.1 in /usr/local/lib/python3.11/dist-packages (from -r requirements.txt (line 7)) (1.17.1)\n",
            "Requirement already satisfied: charset-normalizer==3.4.1 in /usr/local/lib/python3.11/dist-packages (from -r requirements.txt (line 8)) (3.4.1)\n",
            "Collecting click==8.1.7 (from -r requirements.txt (line 9))\n",
            "  Using cached click-8.1.7-py3-none-any.whl.metadata (3.0 kB)\n",
            "Collecting colorama==0.4.6 (from -r requirements.txt (line 10))\n",
            "  Using cached colorama-0.4.6-py2.py3-none-any.whl.metadata (17 kB)\n",
            "Collecting comm==0.2.2 (from -r requirements.txt (line 11))\n",
            "  Using cached comm-0.2.2-py3-none-any.whl.metadata (3.7 kB)\n",
            "Collecting contourpy==1.2.1 (from -r requirements.txt (line 12))\n",
            "  Using cached contourpy-1.2.1-cp311-cp311-manylinux_2_17_x86_64.manylinux2014_x86_64.whl.metadata (5.8 kB)\n",
            "Collecting cryptography==44.0.2 (from -r requirements.txt (line 13))\n",
            "  Using cached cryptography-44.0.2-cp39-abi3-manylinux_2_34_x86_64.whl.metadata (5.7 kB)\n",
            "Requirement already satisfied: cycler==0.12.1 in /usr/local/lib/python3.11/dist-packages (from -r requirements.txt (line 14)) (0.12.1)\n",
            "Collecting debugpy==1.8.1 (from -r requirements.txt (line 15))\n",
            "  Using cached debugpy-1.8.1-cp311-cp311-manylinux_2_17_x86_64.manylinux2014_x86_64.whl.metadata (1.1 kB)\n",
            "Collecting decorator==5.1.1 (from -r requirements.txt (line 16))\n",
            "  Using cached decorator-5.1.1-py3-none-any.whl.metadata (4.0 kB)\n",
            "Collecting distlib==0.3.9 (from -r requirements.txt (line 17))\n",
            "  Using cached distlib-0.3.9-py2.py3-none-any.whl.metadata (5.2 kB)\n",
            "Collecting Django==5.1.3 (from -r requirements.txt (line 18))\n",
            "  Using cached Django-5.1.3-py3-none-any.whl.metadata (4.2 kB)\n",
            "Collecting executing==2.0.1 (from -r requirements.txt (line 19))\n",
            "  Using cached executing-2.0.1-py2.py3-none-any.whl.metadata (9.0 kB)\n",
            "Collecting filelock==3.16.1 (from -r requirements.txt (line 20))\n",
            "  Using cached filelock-3.16.1-py3-none-any.whl.metadata (2.9 kB)\n",
            "Requirement already satisfied: firebase-admin==6.7.0 in /usr/local/lib/python3.11/dist-packages (from -r requirements.txt (line 21)) (6.7.0)\n",
            "Collecting Flask==3.0.3 (from -r requirements.txt (line 22))\n",
            "  Using cached flask-3.0.3-py3-none-any.whl.metadata (3.2 kB)\n",
            "Collecting fonttools==4.52.4 (from -r requirements.txt (line 23))\n",
            "  Using cached fonttools-4.52.4-cp311-cp311-manylinux_2_17_x86_64.manylinux2014_x86_64.whl.metadata (161 kB)\n",
            "Requirement already satisfied: google-api-core==2.24.2 in /usr/local/lib/python3.11/dist-packages (from -r requirements.txt (line 24)) (2.24.2)\n",
            "Collecting google-api-python-client==2.166.0 (from -r requirements.txt (line 25))\n",
            "  Using cached google_api_python_client-2.166.0-py2.py3-none-any.whl.metadata (6.6 kB)\n",
            "Requirement already satisfied: google-auth==2.38.0 in /usr/local/lib/python3.11/dist-packages (from -r requirements.txt (line 26)) (2.38.0)\n",
            "Requirement already satisfied: google-auth-httplib2==0.2.0 in /usr/local/lib/python3.11/dist-packages (from -r requirements.txt (line 27)) (0.2.0)\n",
            "Requirement already satisfied: google-cloud-core==2.4.3 in /usr/local/lib/python3.11/dist-packages (from -r requirements.txt (line 28)) (2.4.3)\n",
            "Requirement already satisfied: google-cloud-firestore==2.20.1 in /usr/local/lib/python3.11/dist-packages (from -r requirements.txt (line 29)) (2.20.1)\n",
            "Collecting google-cloud-storage==3.1.0 (from -r requirements.txt (line 30))\n",
            "  Using cached google_cloud_storage-3.1.0-py2.py3-none-any.whl.metadata (12 kB)\n",
            "Requirement already satisfied: google-crc32c==1.7.1 in /usr/local/lib/python3.11/dist-packages (from -r requirements.txt (line 31)) (1.7.1)\n",
            "Requirement already satisfied: google-resumable-media==2.7.2 in /usr/local/lib/python3.11/dist-packages (from -r requirements.txt (line 32)) (2.7.2)\n",
            "Requirement already satisfied: googleapis-common-protos==1.69.2 in /usr/local/lib/python3.11/dist-packages (from -r requirements.txt (line 33)) (1.69.2)\n",
            "Requirement already satisfied: grpcio==1.71.0 in /usr/local/lib/python3.11/dist-packages (from -r requirements.txt (line 34)) (1.71.0)\n",
            "Requirement already satisfied: grpcio-status==1.71.0 in /usr/local/lib/python3.11/dist-packages (from -r requirements.txt (line 35)) (1.71.0)\n",
            "Requirement already satisfied: httplib2==0.22.0 in /usr/local/lib/python3.11/dist-packages (from -r requirements.txt (line 36)) (0.22.0)\n",
            "Requirement already satisfied: idna==3.10 in /usr/local/lib/python3.11/dist-packages (from -r requirements.txt (line 37)) (3.10)\n",
            "Collecting ipykernel==6.29.4 (from -r requirements.txt (line 38))\n",
            "  Using cached ipykernel-6.29.4-py3-none-any.whl.metadata (6.3 kB)\n",
            "Collecting ipython==8.24.0 (from -r requirements.txt (line 39))\n",
            "  Using cached ipython-8.24.0-py3-none-any.whl.metadata (4.9 kB)\n",
            "Requirement already satisfied: itsdangerous==2.2.0 in /usr/local/lib/python3.11/dist-packages (from -r requirements.txt (line 40)) (2.2.0)\n",
            "Collecting jedi==0.19.1 (from -r requirements.txt (line 41))\n",
            "  Using cached jedi-0.19.1-py2.py3-none-any.whl.metadata (22 kB)\n",
            "Collecting Jinja2==3.1.4 (from -r requirements.txt (line 42))\n",
            "  Using cached jinja2-3.1.4-py3-none-any.whl.metadata (2.6 kB)\n",
            "Requirement already satisfied: joblib==1.4.2 in /usr/local/lib/python3.11/dist-packages (from -r requirements.txt (line 43)) (1.4.2)\n",
            "Collecting jupyter_client==8.6.2 (from -r requirements.txt (line 44))\n",
            "  Using cached jupyter_client-8.6.2-py3-none-any.whl.metadata (8.3 kB)\n",
            "Requirement already satisfied: jupyter_core==5.7.2 in /usr/local/lib/python3.11/dist-packages (from -r requirements.txt (line 45)) (5.7.2)\n",
            "Collecting kiwisolver==1.4.5 (from -r requirements.txt (line 46))\n",
            "  Using cached kiwisolver-1.4.5-cp311-cp311-manylinux_2_17_x86_64.manylinux2014_x86_64.whl.metadata (6.4 kB)\n",
            "Collecting MarkupSafe==2.1.5 (from -r requirements.txt (line 47))\n",
            "  Using cached MarkupSafe-2.1.5-cp311-cp311-manylinux_2_17_x86_64.manylinux2014_x86_64.whl.metadata (3.0 kB)\n",
            "Collecting matplotlib==3.9.0 (from -r requirements.txt (line 48))\n",
            "  Using cached matplotlib-3.9.0-cp311-cp311-manylinux_2_17_x86_64.manylinux2014_x86_64.whl.metadata (11 kB)\n",
            "Requirement already satisfied: matplotlib-inline==0.1.7 in /usr/local/lib/python3.11/dist-packages (from -r requirements.txt (line 49)) (0.1.7)\n",
            "Requirement already satisfied: msgpack==1.1.0 in /usr/local/lib/python3.11/dist-packages (from -r requirements.txt (line 50)) (1.1.0)\n",
            "Requirement already satisfied: nest-asyncio==1.6.0 in /usr/local/lib/python3.11/dist-packages (from -r requirements.txt (line 51)) (1.6.0)\n",
            "Collecting numpy==1.26.4 (from -r requirements.txt (line 52))\n",
            "  Using cached numpy-1.26.4-cp311-cp311-manylinux_2_17_x86_64.manylinux2014_x86_64.whl.metadata (61 kB)\n",
            "Collecting packaging==24.0 (from -r requirements.txt (line 53))\n",
            "  Using cached packaging-24.0-py3-none-any.whl.metadata (3.2 kB)\n",
            "Requirement already satisfied: pandas==2.2.2 in /usr/local/lib/python3.11/dist-packages (from -r requirements.txt (line 54)) (2.2.2)\n",
            "Requirement already satisfied: parso==0.8.4 in /usr/local/lib/python3.11/dist-packages (from -r requirements.txt (line 55)) (0.8.4)\n",
            "Collecting pdf2image==1.17.0 (from -r requirements.txt (line 56))\n",
            "  Using cached pdf2image-1.17.0-py3-none-any.whl.metadata (6.2 kB)\n",
            "Collecting pillow==10.3.0 (from -r requirements.txt (line 57))\n",
            "  Using cached pillow-10.3.0-cp311-cp311-manylinux_2_28_x86_64.whl.metadata (9.2 kB)\n",
            "Collecting pipenv==2024.4.0 (from -r requirements.txt (line 58))\n",
            "  Using cached pipenv-2024.4.0-py3-none-any.whl.metadata (19 kB)\n",
            "Collecting platformdirs==4.2.2 (from -r requirements.txt (line 59))\n",
            "  Using cached platformdirs-4.2.2-py3-none-any.whl.metadata (11 kB)\n",
            "Collecting prompt_toolkit==3.0.45 (from -r requirements.txt (line 60))\n",
            "  Using cached prompt_toolkit-3.0.45-py3-none-any.whl.metadata (6.4 kB)\n",
            "Requirement already satisfied: proto-plus==1.26.1 in /usr/local/lib/python3.11/dist-packages (from -r requirements.txt (line 61)) (1.26.1)\n",
            "Requirement already satisfied: protobuf==5.29.4 in /usr/local/lib/python3.11/dist-packages (from -r requirements.txt (line 62)) (5.29.4)\n",
            "Collecting psutil==5.9.8 (from -r requirements.txt (line 63))\n",
            "  Using cached psutil-5.9.8-cp36-abi3-manylinux_2_12_x86_64.manylinux2010_x86_64.manylinux_2_17_x86_64.manylinux2014_x86_64.whl.metadata (21 kB)\n",
            "Collecting pure-eval==0.2.2 (from -r requirements.txt (line 64))\n",
            "  Using cached pure_eval-0.2.2-py3-none-any.whl.metadata (6.2 kB)\n",
            "Requirement already satisfied: pyasn1==0.6.1 in /usr/local/lib/python3.11/dist-packages (from -r requirements.txt (line 65)) (0.6.1)\n",
            "Requirement already satisfied: pyasn1_modules==0.4.2 in /usr/local/lib/python3.11/dist-packages (from -r requirements.txt (line 66)) (0.4.2)\n",
            "Requirement already satisfied: pycparser==2.22 in /usr/local/lib/python3.11/dist-packages (from -r requirements.txt (line 67)) (2.22)\n",
            "Requirement already satisfied: Pygments==2.18.0 in /usr/local/lib/python3.11/dist-packages (from -r requirements.txt (line 68)) (2.18.0)\n",
            "Requirement already satisfied: PyJWT==2.10.1 in /usr/local/lib/python3.11/dist-packages (from -r requirements.txt (line 69)) (2.10.1)\n",
            "Collecting pyparsing==3.1.2 (from -r requirements.txt (line 70))\n",
            "  Using cached pyparsing-3.1.2-py3-none-any.whl.metadata (5.1 kB)\n",
            "Collecting pytesseract==0.3.13 (from -r requirements.txt (line 71))\n",
            "  Using cached pytesseract-0.3.13-py3-none-any.whl.metadata (11 kB)\n",
            "Collecting python-dateutil==2.9.0.post0 (from -r requirements.txt (line 72))\n",
            "  Using cached python_dateutil-2.9.0.post0-py2.py3-none-any.whl.metadata (8.4 kB)\n",
            "Collecting pytz==2024.1 (from -r requirements.txt (line 73))\n",
            "  Using cached pytz-2024.1-py2.py3-none-any.whl.metadata (22 kB)\n",
            "\u001b[31mERROR: Ignored the following versions that require a different python version: 1.21.2 Requires-Python >=3.7,<3.11; 1.21.3 Requires-Python >=3.7,<3.11; 1.21.4 Requires-Python >=3.7,<3.11; 1.21.5 Requires-Python >=3.7,<3.11; 1.21.6 Requires-Python >=3.7,<3.11\u001b[0m\u001b[31m\n",
            "\u001b[0m\u001b[31mERROR: Could not find a version that satisfies the requirement pywin32==306 (from versions: none)\u001b[0m\u001b[31m\n",
            "\u001b[0m\u001b[31mERROR: No matching distribution found for pywin32==306\u001b[0m\u001b[31m\n",
            "\u001b[0mRequirement already satisfied: PyMuPDF in /usr/local/lib/python3.11/dist-packages (1.25.5)\n"
          ]
        }
      ],
      "source": [
        "import sys\n",
        "import os\n",
        "\n",
        "# Verify we're running in Colab - exit if not\n",
        "try:\n",
        "    import google.colab\n",
        "except ImportError:\n",
        "    raise RuntimeError(\"This script is designed to run only in Google Colab\")\n",
        "\n",
        "# Define repo details\n",
        "repo_url = \"https://github.com/YonaniCodes/Scrapify.git\"\n",
        "repo_path = \"/content/Scrapify\"\n",
        "\n",
        "# Clone or update the repository\n",
        "if not os.path.exists(repo_path):\n",
        "    !git clone {repo_url} {repo_path}\n",
        "else:\n",
        "    %cd {repo_path}\n",
        "    !git stash  # Stash any local changes\n",
        "    !git pull\n",
        "\n",
        "# Add src/ to Python path\n",
        "sys.path.append(f\"{repo_path}/src\")\n",
        "\n",
        "# Import the scraper function (replace with actual import)\n",
        "# from scraper_module import scrape_function\n",
        "!pip install -r requirements.txt\n",
        "!pip install PyMuPDF\n"
      ]
    },
    {
      "cell_type": "code",
      "execution_count": null,
      "metadata": {
        "colab": {
          "base_uri": "https://localhost:8080/"
        },
        "id": "Mb06iS-9l99j",
        "outputId": "5394924b-ca31-4a6a-9f46-7c02d66fc07b"
      },
      "outputs": [
        {
          "output_type": "stream",
          "name": "stdout",
          "text": [
            "Everything is ready you can start working 🎉🎉🎉🎉\n"
          ]
        }
      ],
      "source": [
        "import subprocess\n",
        "\n",
        "# Get output of ls command\n",
        "output = subprocess.check_output(\"ls\", shell=True).decode().splitlines()\n",
        "\n",
        "# Now you can conditionally check\n",
        "if \"firebase-adminsdk.json\" in output:\n",
        "    print(\"Everything is ready you can start working 🎉🎉🎉🎉\")\n",
        "else:\n",
        "    print(\"firebase-adminsdk.json not found.😒😒😒 please ask Yonani for the file\")"
      ]
    },
    {
      "cell_type": "code",
      "execution_count": null,
      "metadata": {
        "id": "oaUyoeqXm6hX"
      },
      "outputs": [],
      "source": [
        "import sys\n",
        "sys.path.append('/content/Scrapify/src')"
      ]
    },
    {
      "cell_type": "code",
      "source": [
        "from scrapify import scrape\n",
        "from scrapify import get_report\n",
        "from preprocessing import normalize_amharic\n",
        "\n",
        "import pandas as pd"
      ],
      "metadata": {
        "id": "S2FG4Do4UihW"
      },
      "execution_count": null,
      "outputs": []
    },
    {
      "cell_type": "markdown",
      "source": [
        "## Steps to Scrape a website\n",
        "\n",
        "1. Install the  `googlesearch-python` module\n",
        "2. Define a function that takes two arguments `num_urls` and `search_query`. and return list of urls\n",
        "3. call the `scrape` method by passing list of `urls` and `your_name` as a second paramete (optional)."
      ],
      "metadata": {
        "id": "M06ZSYp4CZ7D"
      }
    },
    {
      "cell_type": "code",
      "source": [
        "!pip install googlesearch-python"
      ],
      "metadata": {
        "id": "xn35piLXV9CZ",
        "colab": {
          "base_uri": "https://localhost:8080/"
        },
        "outputId": "462cbc8c-ea2f-4839-c76b-5929b68639df"
      },
      "execution_count": null,
      "outputs": [
        {
          "output_type": "stream",
          "name": "stdout",
          "text": [
            "Requirement already satisfied: googlesearch-python in /usr/local/lib/python3.11/dist-packages (1.3.0)\n",
            "Requirement already satisfied: beautifulsoup4>=4.9 in /usr/local/lib/python3.11/dist-packages (from googlesearch-python) (4.13.3)\n",
            "Requirement already satisfied: requests>=2.20 in /usr/local/lib/python3.11/dist-packages (from googlesearch-python) (2.32.3)\n",
            "Requirement already satisfied: soupsieve>1.2 in /usr/local/lib/python3.11/dist-packages (from beautifulsoup4>=4.9->googlesearch-python) (2.6)\n",
            "Requirement already satisfied: typing-extensions>=4.0.0 in /usr/local/lib/python3.11/dist-packages (from beautifulsoup4>=4.9->googlesearch-python) (4.13.1)\n",
            "Requirement already satisfied: charset-normalizer<4,>=2 in /usr/local/lib/python3.11/dist-packages (from requests>=2.20->googlesearch-python) (3.4.1)\n",
            "Requirement already satisfied: idna<4,>=2.5 in /usr/local/lib/python3.11/dist-packages (from requests>=2.20->googlesearch-python) (3.10)\n",
            "Requirement already satisfied: urllib3<3,>=1.21.1 in /usr/local/lib/python3.11/dist-packages (from requests>=2.20->googlesearch-python) (2.3.0)\n",
            "Requirement already satisfied: certifi>=2017.4.17 in /usr/local/lib/python3.11/dist-packages (from requests>=2.20->googlesearch-python) (2025.1.31)\n"
          ]
        }
      ]
    },
    {
      "cell_type": "code",
      "source": [
        "from googlesearch import search\n",
        "\n",
        "def get_links_from_simple_search(query, num_results):\n",
        "    \"\"\"\n",
        "    Retrieves URLs from a simple Google search.\n",
        "\n",
        "    Args:\n",
        "        query (str): The search query.\n",
        "        num_results (int): The desired number of search results. This is not directly supported by googlesearch,\n",
        "                          so it will be used to limit the results after fetching.\n",
        "\n",
        "    Returns:\n",
        "        list: A list of URLs.\n",
        "    \"\"\"\n",
        "    # Fetch the search results\n",
        "    search_results = search(query, num_results=num_results)\n",
        "    # Convert the generator object to a list\n",
        "    urls = list(set(search_results))\n",
        "    return urls"
      ],
      "metadata": {
        "id": "5MFk1o0VdjyO"
      },
      "execution_count": null,
      "outputs": []
    },
    {
      "cell_type": "markdown",
      "source": [
        "We need a function to filter if the url is already scraped we dont wanna send reques to our backend everyurl that is returned by the function `get_links_from_simple_search`"
      ],
      "metadata": {
        "id": "EqbPfI4oEVAN"
      }
    },
    {
      "cell_type": "code",
      "source": [
        "def filter_url(urls):\n",
        "# Assuming scraped_data and unscraped_data are pandas DataFrames with a 'url' column\n",
        "  scraped,unscrape=get_report()\n",
        "  scraped_data= pd.DataFrame(scraped)\n",
        "  unscraped_data= pd.DataFrame(unscrape)\n",
        "  filtered_urls = []\n",
        "  for url in urls:\n",
        "      # Check if the URL is NOT in both scraped_data.url and unscraped_data.url\n",
        "      if url not in scraped_data['url'].values and url not in unscraped_data['url'].values:\n",
        "          filtered_urls.append(url)\n",
        "  return filtered_urls"
      ],
      "metadata": {
        "id": "WMG-PyJyEzZl"
      },
      "execution_count": null,
      "outputs": []
    },
    {
      "cell_type": "markdown",
      "source": [
        "# **Lets visualize our scraping status**"
      ],
      "metadata": {
        "id": "sYavEXkBkCsB"
      }
    },
    {
      "cell_type": "code",
      "source": [
        "import matplotlib.pyplot as plt\n",
        "import pandas as pd\n",
        "\n",
        "def plot_scraping_report():\n",
        "    \"\"\"\n",
        "    Generate a pie chart showing the ratio of scraped to unscraped URLs.\n",
        "    Uses get_report() internally to fetch the data.\n",
        "    \"\"\"\n",
        "    # Get the data\n",
        "    scraped, unscraped = get_report()\n",
        "\n",
        "    # Convert to DataFrames\n",
        "    scraped_data = pd.DataFrame(scraped)\n",
        "    unscraped_data = pd.DataFrame(unscraped)\n",
        "\n",
        "    # Calculate counts\n",
        "    scraped_count = len(scraped_data['url'])\n",
        "    unscraped_count = len(unscraped_data['url'])\n",
        "\n",
        "    # Prepare data for visualization\n",
        "    labels = ['Scraped URLs', 'Unscraped URLs']\n",
        "    sizes = [scraped_count, unscraped_count]\n",
        "    colors = ['salmon', 'lightblue']  # Green and red\n",
        "\n",
        "    # Create the figure\n",
        "    fig, ax = plt.subplots(figsize=(6, 6))\n",
        "    ax.pie(sizes,\n",
        "           labels=labels,\n",
        "           colors=colors,\n",
        "           autopct=lambda p: f'{p:.1f}%\\n({int(p/100*sum(sizes))})',\n",
        "           startangle=90,\n",
        "           wedgeprops={'linewidth': 1, 'edgecolor': 'white'},\n",
        "           textprops={'fontsize': 12})\n",
        "\n",
        "    ax.set_title('Scraping Report: Scraped vs Unscraped URLs', pad=20, fontsize=14)\n",
        "    plt.tight_layout()\n",
        "\n",
        "\n"
      ],
      "metadata": {
        "id": "g7Y_fbaDhvqL"
      },
      "execution_count": null,
      "outputs": []
    },
    {
      "cell_type": "code",
      "source": [
        "# Example usage:\n",
        "plot_scraping_report()"
      ],
      "metadata": {
        "colab": {
          "base_uri": "https://localhost:8080/",
          "height": 462
        },
        "id": "GotGbA9_HMfT",
        "outputId": "a77afac6-e12e-4217-a326-7cbf01afe2a3"
      },
      "execution_count": null,
      "outputs": [
        {
          "output_type": "display_data",
          "data": {
            "text/plain": [
              "<Figure size 600x600 with 1 Axes>"
            ],
            "image/png": "[encoded data removed]"
          },
          "metadata": {}
        }
      ]
    },
    {
      "cell_type": "markdown",
      "source": [
        "### Normalizing our data\n",
        "\n",
        "\n",
        "In order to normalize our well define\n",
        "1. deffine a function `read_jsonl_content` to read jsoln file\n",
        "2. normalize the text returned using `normalize_and_save_data`\n",
        "3. Finall define the wraper function `normalize_jsonl_file`\n",
        "\n"
      ],
      "metadata": {
        "id": "rKge09SIHms3"
      }
    },
    {
      "cell_type": "code",
      "source": [
        "import json\n",
        "\n",
        "def read_jsonl_content(file_path, content_key='content'):\n",
        "    \"\"\"Returns a list of 'content' values from a .jsonl file.\"\"\"\n",
        "    content_values = []\n",
        "    with open(file_path, 'r', encoding='utf-8') as file:\n",
        "        for line in file:\n",
        "            stripped_line = line.strip()\n",
        "            if stripped_line:\n",
        "                record = json.loads(stripped_line)\n",
        "                content_values.append(record[content_key])\n",
        "\n",
        "    print(f\"Read {len(content_values)} records from {file_path}.\")\n",
        "    return content_values  # Example: [\"text1\", \"text2\", ...]"
      ],
      "metadata": {
        "id": "GkkamYUqI2q6"
      },
      "execution_count": 8,
      "outputs": []
    },
    {
      "cell_type": "code",
      "source": [
        "def normalize_and_save_data(jsonl_data, file_path):\n",
        "    \"\"\"Writes all JSONL entries as one continuous text blob.\"\"\"\n",
        "    with open(file_path, 'w', encoding='utf-8') as f:\n",
        "        all_text = \" \".join(normalize_amharic(text) for text in jsonl_data)  # No newlines\n",
        "        f.write(all_text)"
      ],
      "metadata": {
        "id": "MCszEdIzKC1k"
      },
      "execution_count": 9,
      "outputs": []
    },
    {
      "cell_type": "code",
      "source": [
        "def normalize_jsonl_file(input_file, output_file):\n",
        "  jsonl_data=read_jsonl_content(test_file_path)\n",
        "  normalize_and_save_data(jsonl_data, destination_file_path)"
      ],
      "metadata": {
        "id": "JIbdpNkNQRhQ"
      },
      "execution_count": 10,
      "outputs": []
    },
    {
      "cell_type": "markdown",
      "source": [
        "How to normalize data?\n",
        "\n",
        "1. define `test_file_path` the jsonl file is found.\n",
        "2. define `destination` you want to store the normaliez text file\n",
        "3. call the function `normalize_and_save_data  ` with the two parameters\n",
        "4. finnally call the wraper function"
      ],
      "metadata": {
        "id": "bq2V7Peg7jPW"
      }
    },
    {
      "cell_type": "code",
      "source": [
        "test_file_path = 'extracted_data.jsonl'\n",
        "destination_file_path = 'normalized.txt'\n",
        "\n",
        "normalize_jsonl_file(test_file_path, destination_file_path)\n"
      ],
      "metadata": {
        "colab": {
          "base_uri": "https://localhost:8080/",
          "height": 333
        },
        "id": "im0UOg_aQcuo",
        "outputId": "6d6aff49-ed2b-44cd-f3ee-b05bac102eed"
      },
      "execution_count": 11,
      "outputs": [
        {
          "output_type": "error",
          "ename": "JSONDecodeError",
          "evalue": "Unterminated string starting at: line 1 column 312 (char 311)",
          "traceback": [
            "\u001b[0;31m---------------------------------------------------------------------------\u001b[0m",
            "\u001b[0;31mJSONDecodeError\u001b[0m                           Traceback (most recent call last)",
            "\u001b[0;32m<ipython-input-11-8fc8a99261e9>\u001b[0m in \u001b[0;36m<cell line: 0>\u001b[0;34m()\u001b[0m\n\u001b[1;32m      2\u001b[0m \u001b[0mdestination_file_path\u001b[0m \u001b[0;34m=\u001b[0m \u001b[0;34m'normalized.txt'\u001b[0m\u001b[0;34m\u001b[0m\u001b[0;34m\u001b[0m\u001b[0m\n\u001b[1;32m      3\u001b[0m \u001b[0;34m\u001b[0m\u001b[0m\n\u001b[0;32m----> 4\u001b[0;31m \u001b[0mnormalize_jsonl_file\u001b[0m\u001b[0;34m(\u001b[0m\u001b[0mtest_file_path\u001b[0m\u001b[0;34m,\u001b[0m \u001b[0mdestination_file_path\u001b[0m\u001b[0;34m)\u001b[0m\u001b[0;34m\u001b[0m\u001b[0;34m\u001b[0m\u001b[0m\n\u001b[0m",
            "\u001b[0;32m<ipython-input-10-b8681d956ddd>\u001b[0m in \u001b[0;36mnormalize_jsonl_file\u001b[0;34m(input_file, output_file)\u001b[0m\n\u001b[1;32m      1\u001b[0m \u001b[0;32mdef\u001b[0m \u001b[0mnormalize_jsonl_file\u001b[0m\u001b[0;34m(\u001b[0m\u001b[0minput_file\u001b[0m\u001b[0;34m,\u001b[0m \u001b[0moutput_file\u001b[0m\u001b[0;34m)\u001b[0m\u001b[0;34m:\u001b[0m\u001b[0;34m\u001b[0m\u001b[0;34m\u001b[0m\u001b[0m\n\u001b[0;32m----> 2\u001b[0;31m   \u001b[0mjsonl_data\u001b[0m\u001b[0;34m=\u001b[0m\u001b[0mread_jsonl_content\u001b[0m\u001b[0;34m(\u001b[0m\u001b[0mtest_file_path\u001b[0m\u001b[0;34m)\u001b[0m\u001b[0;34m\u001b[0m\u001b[0;34m\u001b[0m\u001b[0m\n\u001b[0m\u001b[1;32m      3\u001b[0m   \u001b[0mnormalize_and_save_data\u001b[0m\u001b[0;34m(\u001b[0m\u001b[0mjsonl_data\u001b[0m\u001b[0;34m,\u001b[0m \u001b[0mdestination_file_path\u001b[0m\u001b[0;34m)\u001b[0m\u001b[0;34m\u001b[0m\u001b[0;34m\u001b[0m\u001b[0m\n",
            "\u001b[0;32m<ipython-input-8-6b538afbea16>\u001b[0m in \u001b[0;36mread_jsonl_content\u001b[0;34m(file_path, content_key)\u001b[0m\n\u001b[1;32m      8\u001b[0m             \u001b[0mstripped_line\u001b[0m \u001b[0;34m=\u001b[0m \u001b[0mline\u001b[0m\u001b[0;34m.\u001b[0m\u001b[0mstrip\u001b[0m\u001b[0;34m(\u001b[0m\u001b[0;34m)\u001b[0m\u001b[0;34m\u001b[0m\u001b[0;34m\u001b[0m\u001b[0m\n\u001b[1;32m      9\u001b[0m             \u001b[0;32mif\u001b[0m \u001b[0mstripped_line\u001b[0m\u001b[0;34m:\u001b[0m\u001b[0;34m\u001b[0m\u001b[0;34m\u001b[0m\u001b[0m\n\u001b[0;32m---> 10\u001b[0;31m                 \u001b[0mrecord\u001b[0m \u001b[0;34m=\u001b[0m \u001b[0mjson\u001b[0m\u001b[0;34m.\u001b[0m\u001b[0mloads\u001b[0m\u001b[0;34m(\u001b[0m\u001b[0mstripped_line\u001b[0m\u001b[0;34m)\u001b[0m\u001b[0;34m\u001b[0m\u001b[0;34m\u001b[0m\u001b[0m\n\u001b[0m\u001b[1;32m     11\u001b[0m                 \u001b[0mcontent_values\u001b[0m\u001b[0;34m.\u001b[0m\u001b[0mappend\u001b[0m\u001b[0;34m(\u001b[0m\u001b[0mrecord\u001b[0m\u001b[0;34m[\u001b[0m\u001b[0mcontent_key\u001b[0m\u001b[0;34m]\u001b[0m\u001b[0;34m)\u001b[0m\u001b[0;34m\u001b[0m\u001b[0;34m\u001b[0m\u001b[0m\n\u001b[1;32m     12\u001b[0m \u001b[0;34m\u001b[0m\u001b[0m\n",
            "\u001b[0;32m/usr/lib/python3.11/json/__init__.py\u001b[0m in \u001b[0;36mloads\u001b[0;34m(s, cls, object_hook, parse_float, parse_int, parse_constant, object_pairs_hook, **kw)\u001b[0m\n\u001b[1;32m    344\u001b[0m             \u001b[0mparse_int\u001b[0m \u001b[0;32mis\u001b[0m \u001b[0;32mNone\u001b[0m \u001b[0;32mand\u001b[0m \u001b[0mparse_float\u001b[0m \u001b[0;32mis\u001b[0m \u001b[0;32mNone\u001b[0m \u001b[0;32mand\u001b[0m\u001b[0;34m\u001b[0m\u001b[0;34m\u001b[0m\u001b[0m\n\u001b[1;32m    345\u001b[0m             parse_constant is None and object_pairs_hook is None and not kw):\n\u001b[0;32m--> 346\u001b[0;31m         \u001b[0;32mreturn\u001b[0m \u001b[0m_default_decoder\u001b[0m\u001b[0;34m.\u001b[0m\u001b[0mdecode\u001b[0m\u001b[0;34m(\u001b[0m\u001b[0ms\u001b[0m\u001b[0;34m)\u001b[0m\u001b[0;34m\u001b[0m\u001b[0;34m\u001b[0m\u001b[0m\n\u001b[0m\u001b[1;32m    347\u001b[0m     \u001b[0;32mif\u001b[0m \u001b[0mcls\u001b[0m \u001b[0;32mis\u001b[0m \u001b[0;32mNone\u001b[0m\u001b[0;34m:\u001b[0m\u001b[0;34m\u001b[0m\u001b[0;34m\u001b[0m\u001b[0m\n\u001b[1;32m    348\u001b[0m         \u001b[0mcls\u001b[0m \u001b[0;34m=\u001b[0m \u001b[0mJSONDecoder\u001b[0m\u001b[0;34m\u001b[0m\u001b[0;34m\u001b[0m\u001b[0m\n",
            "\u001b[0;32m/usr/lib/python3.11/json/decoder.py\u001b[0m in \u001b[0;36mdecode\u001b[0;34m(self, s, _w)\u001b[0m\n\u001b[1;32m    335\u001b[0m \u001b[0;34m\u001b[0m\u001b[0m\n\u001b[1;32m    336\u001b[0m         \"\"\"\n\u001b[0;32m--> 337\u001b[0;31m         \u001b[0mobj\u001b[0m\u001b[0;34m,\u001b[0m \u001b[0mend\u001b[0m \u001b[0;34m=\u001b[0m \u001b[0mself\u001b[0m\u001b[0;34m.\u001b[0m\u001b[0mraw_decode\u001b[0m\u001b[0;34m(\u001b[0m\u001b[0ms\u001b[0m\u001b[0;34m,\u001b[0m \u001b[0midx\u001b[0m\u001b[0;34m=\u001b[0m\u001b[0m_w\u001b[0m\u001b[0;34m(\u001b[0m\u001b[0ms\u001b[0m\u001b[0;34m,\u001b[0m \u001b[0;36m0\u001b[0m\u001b[0;34m)\u001b[0m\u001b[0;34m.\u001b[0m\u001b[0mend\u001b[0m\u001b[0;34m(\u001b[0m\u001b[0;34m)\u001b[0m\u001b[0;34m)\u001b[0m\u001b[0;34m\u001b[0m\u001b[0;34m\u001b[0m\u001b[0m\n\u001b[0m\u001b[1;32m    338\u001b[0m         \u001b[0mend\u001b[0m \u001b[0;34m=\u001b[0m \u001b[0m_w\u001b[0m\u001b[0;34m(\u001b[0m\u001b[0ms\u001b[0m\u001b[0;34m,\u001b[0m \u001b[0mend\u001b[0m\u001b[0;34m)\u001b[0m\u001b[0;34m.\u001b[0m\u001b[0mend\u001b[0m\u001b[0;34m(\u001b[0m\u001b[0;34m)\u001b[0m\u001b[0;34m\u001b[0m\u001b[0;34m\u001b[0m\u001b[0m\n\u001b[1;32m    339\u001b[0m         \u001b[0;32mif\u001b[0m \u001b[0mend\u001b[0m \u001b[0;34m!=\u001b[0m \u001b[0mlen\u001b[0m\u001b[0;34m(\u001b[0m\u001b[0ms\u001b[0m\u001b[0;34m)\u001b[0m\u001b[0;34m:\u001b[0m\u001b[0;34m\u001b[0m\u001b[0;34m\u001b[0m\u001b[0m\n",
            "\u001b[0;32m/usr/lib/python3.11/json/decoder.py\u001b[0m in \u001b[0;36mraw_decode\u001b[0;34m(self, s, idx)\u001b[0m\n\u001b[1;32m    351\u001b[0m         \"\"\"\n\u001b[1;32m    352\u001b[0m         \u001b[0;32mtry\u001b[0m\u001b[0;34m:\u001b[0m\u001b[0;34m\u001b[0m\u001b[0;34m\u001b[0m\u001b[0m\n\u001b[0;32m--> 353\u001b[0;31m             \u001b[0mobj\u001b[0m\u001b[0;34m,\u001b[0m \u001b[0mend\u001b[0m \u001b[0;34m=\u001b[0m \u001b[0mself\u001b[0m\u001b[0;34m.\u001b[0m\u001b[0mscan_once\u001b[0m\u001b[0;34m(\u001b[0m\u001b[0ms\u001b[0m\u001b[0;34m,\u001b[0m \u001b[0midx\u001b[0m\u001b[0;34m)\u001b[0m\u001b[0;34m\u001b[0m\u001b[0;34m\u001b[0m\u001b[0m\n\u001b[0m\u001b[1;32m    354\u001b[0m         \u001b[0;32mexcept\u001b[0m \u001b[0mStopIteration\u001b[0m \u001b[0;32mas\u001b[0m \u001b[0merr\u001b[0m\u001b[0;34m:\u001b[0m\u001b[0;34m\u001b[0m\u001b[0;34m\u001b[0m\u001b[0m\n\u001b[1;32m    355\u001b[0m             \u001b[0;32mraise\u001b[0m \u001b[0mJSONDecodeError\u001b[0m\u001b[0;34m(\u001b[0m\u001b[0;34m\"Expecting value\"\u001b[0m\u001b[0;34m,\u001b[0m \u001b[0ms\u001b[0m\u001b[0;34m,\u001b[0m \u001b[0merr\u001b[0m\u001b[0;34m.\u001b[0m\u001b[0mvalue\u001b[0m\u001b[0;34m)\u001b[0m \u001b[0;32mfrom\u001b[0m \u001b[0;32mNone\u001b[0m\u001b[0;34m\u001b[0m\u001b[0;34m\u001b[0m\u001b[0m\n",
            "\u001b[0;31mJSONDecodeError\u001b[0m: Unterminated string starting at: line 1 column 312 (char 311)"
          ]
        }
      ]
    },
    {
      "cell_type": "markdown",
      "source": [
        "### Chunking the data. now is the time to chunk all the data."
      ],
      "metadata": {
        "id": "kbMM-a6hRAgn"
      }
    },
    {
      "cell_type": "code",
      "source": [
        "import os\n",
        "import os\n",
        "import re\n",
        "import shutil\n",
        "from google.colab import files\n",
        "\n",
        "def read_normalized_text(file_path):\n",
        "    with open(file_path, 'r', encoding='utf-8') as f:\n",
        "        return f.read()\n",
        "\n",
        "\n",
        "def chunk_text(text, max_sentences=100, overlap_sentences=10):\n",
        "    \"\"\"\n",
        "    Splits the input text into chunks based on number of sentences.\n",
        "\n",
        "    Args:\n",
        "        text: Full text string.\n",
        "        max_sentences: Maximum number of sentences per chunk.\n",
        "        overlap_sentences: Number of overlapping sentences between chunks.\n",
        "\n",
        "    Returns:\n",
        "        List of sentence-based text chunks.\n",
        "    \"\"\"\n",
        "    # Basic sentence splitting using punctuation (handles Amharic + general)\n",
        "    sentences = re.split(r'(?<=[።!?])\\s+', text.strip())\n",
        "    chunks = []\n",
        "    i = 0\n",
        "\n",
        "    while i < len(sentences):\n",
        "        chunk = sentences[i:i + max_sentences]\n",
        "        chunks.append(\" \".join(chunk))\n",
        "        i += max_sentences - overlap_sentences\n",
        "\n",
        "    return chunks\n",
        "\n",
        "\n",
        "def save_chunks_as_files(chunks: list[str], output_dir: str, base_filename: str = \"chunk\"):\n",
        "    \"\"\"\n",
        "    Saves each text chunk as an individual .txt file.\n",
        "\n",
        "    Args:\n",
        "        chunks: List of text chunks (strings)\n",
        "        output_dir: Directory to save the files\n",
        "        base_filename: Prefix for filenames (default: \"chunk\")\n",
        "\n",
        "    Returns:\n",
        "        List of paths to the created files\n",
        "    \"\"\"\n",
        "    os.makedirs(output_dir, exist_ok=True)\n",
        "    saved_paths = []\n",
        "\n",
        "    for i, chunk in enumerate(chunks, start=1):\n",
        "        file_path = os.path.join(output_dir, f\"{base_filename}_{i}.txt\")\n",
        "        with open(file_path, 'w', encoding='utf-8') as file:\n",
        "            file.write(chunk)\n",
        "        saved_paths.append(file_path)\n",
        "\n",
        "    print(f\"Saved {len(saved_paths)} files:\")\n",
        "    for path in saved_paths[:10]:\n",
        "        print(f\"→ {path}\")\n",
        "\n",
        "def zip_chunks_folder(folder_path):\n",
        "    zip_file_path = f\"{folder_path}.zip\"\n",
        "    shutil.make_archive(folder_path, 'zip', folder_path)\n",
        "    return zip_file_path\n",
        "\n"
      ],
      "metadata": {
        "id": "l03Kn6k2dNal"
      },
      "execution_count": 12,
      "outputs": []
    },
    {
      "cell_type": "code",
      "source": [
        "import datetime\n",
        "normalized_file_path = 'normalized.txt'\n",
        "timestamp = datetime.datetime.now().strftime(\"%Y%m%d_%H%M%S\")\n",
        "destination_file_path = f'chunks{timestamp}'\n",
        "text=read_normalized_text(normalized_file_path)\n",
        "chunks=chunk_text(text)\n",
        "save_chunks_as_files(chunks,destination_file_path)\n",
        "\n",
        "\n",
        "\n"
      ],
      "metadata": {
        "id": "wR0rRQ1Sd76n",
        "outputId": "55b7cf9c-9bb9-4fed-fabd-09f2420f14b6",
        "colab": {
          "base_uri": "https://localhost:8080/",
          "height": 346
        }
      },
      "execution_count": 13,
      "outputs": [
        {
          "output_type": "error",
          "ename": "FileNotFoundError",
          "evalue": "[Errno 2] No such file or directory: 'normalized.txt'",
          "traceback": [
            "\u001b[0;31m---------------------------------------------------------------------------\u001b[0m",
            "\u001b[0;31mFileNotFoundError\u001b[0m                         Traceback (most recent call last)",
            "\u001b[0;32m<ipython-input-13-45f8c13ee949>\u001b[0m in \u001b[0;36m<cell line: 0>\u001b[0;34m()\u001b[0m\n\u001b[1;32m      3\u001b[0m \u001b[0mtimestamp\u001b[0m \u001b[0;34m=\u001b[0m \u001b[0mdatetime\u001b[0m\u001b[0;34m.\u001b[0m\u001b[0mdatetime\u001b[0m\u001b[0;34m.\u001b[0m\u001b[0mnow\u001b[0m\u001b[0;34m(\u001b[0m\u001b[0;34m)\u001b[0m\u001b[0;34m.\u001b[0m\u001b[0mstrftime\u001b[0m\u001b[0;34m(\u001b[0m\u001b[0;34m\"%Y%m%d_%H%M%S\"\u001b[0m\u001b[0;34m)\u001b[0m\u001b[0;34m\u001b[0m\u001b[0;34m\u001b[0m\u001b[0m\n\u001b[1;32m      4\u001b[0m \u001b[0mdestination_file_path\u001b[0m \u001b[0;34m=\u001b[0m \u001b[0;34mf'chunks{timestamp}'\u001b[0m\u001b[0;34m\u001b[0m\u001b[0;34m\u001b[0m\u001b[0m\n\u001b[0;32m----> 5\u001b[0;31m \u001b[0mtext\u001b[0m\u001b[0;34m=\u001b[0m\u001b[0mread_normalized_text\u001b[0m\u001b[0;34m(\u001b[0m\u001b[0mnormalized_file_path\u001b[0m\u001b[0;34m)\u001b[0m\u001b[0;34m\u001b[0m\u001b[0;34m\u001b[0m\u001b[0m\n\u001b[0m\u001b[1;32m      6\u001b[0m \u001b[0mchunks\u001b[0m\u001b[0;34m=\u001b[0m\u001b[0mchunk_text\u001b[0m\u001b[0;34m(\u001b[0m\u001b[0mtext\u001b[0m\u001b[0;34m)\u001b[0m\u001b[0;34m\u001b[0m\u001b[0;34m\u001b[0m\u001b[0m\n\u001b[1;32m      7\u001b[0m \u001b[0msave_chunks_as_files\u001b[0m\u001b[0;34m(\u001b[0m\u001b[0mchunks\u001b[0m\u001b[0;34m,\u001b[0m\u001b[0mdestination_file_path\u001b[0m\u001b[0;34m)\u001b[0m\u001b[0;34m\u001b[0m\u001b[0;34m\u001b[0m\u001b[0m\n",
            "\u001b[0;32m<ipython-input-12-53e654af1ac0>\u001b[0m in \u001b[0;36mread_normalized_text\u001b[0;34m(file_path)\u001b[0m\n\u001b[1;32m      6\u001b[0m \u001b[0;34m\u001b[0m\u001b[0m\n\u001b[1;32m      7\u001b[0m \u001b[0;32mdef\u001b[0m \u001b[0mread_normalized_text\u001b[0m\u001b[0;34m(\u001b[0m\u001b[0mfile_path\u001b[0m\u001b[0;34m)\u001b[0m\u001b[0;34m:\u001b[0m\u001b[0;34m\u001b[0m\u001b[0;34m\u001b[0m\u001b[0m\n\u001b[0;32m----> 8\u001b[0;31m     \u001b[0;32mwith\u001b[0m \u001b[0mopen\u001b[0m\u001b[0;34m(\u001b[0m\u001b[0mfile_path\u001b[0m\u001b[0;34m,\u001b[0m \u001b[0;34m'r'\u001b[0m\u001b[0;34m,\u001b[0m \u001b[0mencoding\u001b[0m\u001b[0;34m=\u001b[0m\u001b[0;34m'utf-8'\u001b[0m\u001b[0;34m)\u001b[0m \u001b[0;32mas\u001b[0m \u001b[0mf\u001b[0m\u001b[0;34m:\u001b[0m\u001b[0;34m\u001b[0m\u001b[0;34m\u001b[0m\u001b[0m\n\u001b[0m\u001b[1;32m      9\u001b[0m         \u001b[0;32mreturn\u001b[0m \u001b[0mf\u001b[0m\u001b[0;34m.\u001b[0m\u001b[0mread\u001b[0m\u001b[0;34m(\u001b[0m\u001b[0;34m)\u001b[0m\u001b[0;34m\u001b[0m\u001b[0;34m\u001b[0m\u001b[0m\n\u001b[1;32m     10\u001b[0m \u001b[0;34m\u001b[0m\u001b[0m\n",
            "\u001b[0;31mFileNotFoundError\u001b[0m: [Errno 2] No such file or directory: 'normalized.txt'"
          ]
        }
      ]
    },
    {
      "cell_type": "markdown",
      "source": [
        "## Downloading the chunks"
      ],
      "metadata": {
        "id": "AvxWQLLBf8A3"
      }
    },
    {
      "cell_type": "code",
      "source": [
        "zip_file_path = zip_chunks_folder(destination_file_path)\n",
        "files.download(zip_file_path)\n",
        "\n",
        "print(f\"Chunks folder zipped and ready for download: {zip_file_path}\")\n"
      ],
      "metadata": {
        "id": "kH2O-LC--cFU",
        "colab": {
          "base_uri": "https://localhost:8080/",
          "height": 200
        },
        "outputId": "70da0f46-6bf5-4baf-e3ee-4205f85070a1"
      },
      "execution_count": 3,
      "outputs": [
        {
          "output_type": "error",
          "ename": "NameError",
          "evalue": "name 'destination_file_path' is not defined",
          "traceback": [
            "\u001b[0;31m---------------------------------------------------------------------------\u001b[0m",
            "\u001b[0;31mNameError\u001b[0m                                 Traceback (most recent call last)",
            "\u001b[0;32m<ipython-input-3-1744beb02a46>\u001b[0m in \u001b[0;36m<cell line: 0>\u001b[0;34m()\u001b[0m\n\u001b[0;32m----> 1\u001b[0;31m \u001b[0mzip_file_path\u001b[0m \u001b[0;34m=\u001b[0m \u001b[0mzip_chunks_folder\u001b[0m\u001b[0;34m(\u001b[0m\u001b[0mdestination_file_path\u001b[0m\u001b[0;34m)\u001b[0m\u001b[0;34m\u001b[0m\u001b[0;34m\u001b[0m\u001b[0m\n\u001b[0m\u001b[1;32m      2\u001b[0m \u001b[0mfiles\u001b[0m\u001b[0;34m.\u001b[0m\u001b[0mdownload\u001b[0m\u001b[0;34m(\u001b[0m\u001b[0mzip_file_path\u001b[0m\u001b[0;34m)\u001b[0m\u001b[0;34m\u001b[0m\u001b[0;34m\u001b[0m\u001b[0m\n\u001b[1;32m      3\u001b[0m \u001b[0;34m\u001b[0m\u001b[0m\n\u001b[1;32m      4\u001b[0m \u001b[0mprint\u001b[0m\u001b[0;34m(\u001b[0m\u001b[0;34mf\"Chunks folder zipped and ready for download: {zip_file_path}\"\u001b[0m\u001b[0;34m)\u001b[0m\u001b[0;34m\u001b[0m\u001b[0;34m\u001b[0m\u001b[0m\n",
            "\u001b[0;31mNameError\u001b[0m: name 'destination_file_path' is not defined"
          ]
        }
      ]
    },
    {
      "cell_type": "code",
      "source": [],
      "metadata": {
        "id": "IbY0fF-v-doJ"
      },
      "execution_count": null,
      "outputs": []
    }
  ],
  "metadata": {
    "colab": {
      "provenance": []
    },
    "kernelspec": {
      "display_name": "Python 3",
      "name": "python3"
    },
    "language_info": {
      "name": "python"
    }
  },
  "nbformat": 4,
  "nbformat_minor": 0
}