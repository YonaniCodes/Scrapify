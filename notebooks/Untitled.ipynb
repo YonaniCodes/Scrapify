{
 "cells": [
  {
   "cell_type": "code",
   "execution_count": null,
   "id": "98e1fd30-7d9e-414d-9596-426c9b3f29c4",
   "metadata": {},
   "outputs": [],
   "source": []
  }
 ],
 "metadata": {
  "kernelspec": {
   "display_name": "",
   "name": ""
  },
  "language_info": {
   "name": ""
  }
 },
 "nbformat": 4,
 "nbformat_minor": 5
}
